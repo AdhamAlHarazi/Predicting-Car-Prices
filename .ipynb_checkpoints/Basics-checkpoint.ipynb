{
 "cells": [
  {
   "cell_type": "markdown",
   "metadata": {},
   "source": [
    "## Introduction"
   ]
  },
  {
   "cell_type": "markdown",
   "metadata": {},
   "source": [
    "The data set we will be working with contains information on various cars. For each car we have information about the technical aspects of the vehicle such as the motor's displacement, the weight of the car, the miles per gallon, how fast the car accelerates, and more. You can read more about the data set here and can download it directly from here."
   ]
  },
  {
   "cell_type": "code",
   "execution_count": 1,
   "metadata": {
    "collapsed": true
   },
   "outputs": [],
   "source": [
    "import pandas as pd\n",
    "import numpy as np\n",
    "\n",
    "cars = pd.read_csv(\"imports-85.data\")"
   ]
  },
  {
   "cell_type": "code",
   "execution_count": 2,
   "metadata": {
    "collapsed": false
   },
   "outputs": [],
   "source": [
    "cols = ['symboling', 'normalized-losses', 'make', 'fuel-type', 'aspiration', 'num-of-doors', 'body-style', \n",
    "        'drive-wheels', 'engine-location', 'wheel-base', 'length', 'width', 'height', 'curb-weight', 'engine-type', \n",
    "        'num-of-cylinders', 'engine-size', 'fuel-system', 'bore', 'stroke', 'compression-rate', 'horsepower', 'peak-rpm', 'city-mpg', 'highway-mpg', 'price']\n",
    "\n"
   ]
  },
  {
   "cell_type": "code",
   "execution_count": 3,
   "metadata": {
    "collapsed": false
   },
   "outputs": [],
   "source": [
    "cars.columns = cols"
   ]
  },
  {
   "cell_type": "code",
   "execution_count": 4,
   "metadata": {
    "collapsed": false
   },
   "outputs": [
    {
     "data": {
      "text/plain": [
       "['symboling',\n",
       " 'normalized-losses',\n",
       " 'make',\n",
       " 'fuel-type',\n",
       " 'aspiration',\n",
       " 'num-of-doors',\n",
       " 'body-style',\n",
       " 'drive-wheels',\n",
       " 'engine-location',\n",
       " 'wheel-base',\n",
       " 'length',\n",
       " 'width',\n",
       " 'height',\n",
       " 'curb-weight',\n",
       " 'engine-type',\n",
       " 'num-of-cylinders',\n",
       " 'engine-size',\n",
       " 'fuel-system',\n",
       " 'bore',\n",
       " 'stroke',\n",
       " 'compression-rate',\n",
       " 'horsepower',\n",
       " 'peak-rpm',\n",
       " 'city-mpg',\n",
       " 'highway-mpg',\n",
       " 'price']"
      ]
     },
     "execution_count": 4,
     "metadata": {},
     "output_type": "execute_result"
    }
   ],
   "source": [
    "cars.columns.tolist()"
   ]
  },
  {
   "cell_type": "code",
   "execution_count": 5,
   "metadata": {
    "collapsed": false
   },
   "outputs": [
    {
     "data": {
      "text/plain": [
       "(204, 26)"
      ]
     },
     "execution_count": 5,
     "metadata": {},
     "output_type": "execute_result"
    }
   ],
   "source": [
    "cars.shape"
   ]
  },
  {
   "cell_type": "code",
   "execution_count": 6,
   "metadata": {
    "collapsed": false
   },
   "outputs": [
    {
     "data": {
      "text/html": [
       "<div>\n",
       "<table border=\"1\" class=\"dataframe\">\n",
       "  <thead>\n",
       "    <tr style=\"text-align: right;\">\n",
       "      <th></th>\n",
       "      <th>symboling</th>\n",
       "      <th>normalized-losses</th>\n",
       "      <th>make</th>\n",
       "      <th>fuel-type</th>\n",
       "      <th>aspiration</th>\n",
       "      <th>num-of-doors</th>\n",
       "      <th>body-style</th>\n",
       "      <th>drive-wheels</th>\n",
       "      <th>engine-location</th>\n",
       "      <th>wheel-base</th>\n",
       "      <th>length</th>\n",
       "      <th>width</th>\n",
       "      <th>height</th>\n",
       "      <th>curb-weight</th>\n",
       "      <th>engine-type</th>\n",
       "      <th>num-of-cylinders</th>\n",
       "      <th>engine-size</th>\n",
       "      <th>fuel-system</th>\n",
       "      <th>bore</th>\n",
       "      <th>stroke</th>\n",
       "      <th>compression-rate</th>\n",
       "      <th>horsepower</th>\n",
       "      <th>peak-rpm</th>\n",
       "      <th>city-mpg</th>\n",
       "      <th>highway-mpg</th>\n",
       "      <th>price</th>\n",
       "    </tr>\n",
       "  </thead>\n",
       "  <tbody>\n",
       "    <tr>\n",
       "      <th>0</th>\n",
       "      <td>3</td>\n",
       "      <td>?</td>\n",
       "      <td>alfa-romero</td>\n",
       "      <td>gas</td>\n",
       "      <td>std</td>\n",
       "      <td>two</td>\n",
       "      <td>convertible</td>\n",
       "      <td>rwd</td>\n",
       "      <td>front</td>\n",
       "      <td>88.6</td>\n",
       "      <td>168.8</td>\n",
       "      <td>64.1</td>\n",
       "      <td>48.8</td>\n",
       "      <td>2548</td>\n",
       "      <td>dohc</td>\n",
       "      <td>four</td>\n",
       "      <td>130</td>\n",
       "      <td>mpfi</td>\n",
       "      <td>3.47</td>\n",
       "      <td>2.68</td>\n",
       "      <td>9.0</td>\n",
       "      <td>111</td>\n",
       "      <td>5000</td>\n",
       "      <td>21</td>\n",
       "      <td>27</td>\n",
       "      <td>16500</td>\n",
       "    </tr>\n",
       "    <tr>\n",
       "      <th>1</th>\n",
       "      <td>1</td>\n",
       "      <td>?</td>\n",
       "      <td>alfa-romero</td>\n",
       "      <td>gas</td>\n",
       "      <td>std</td>\n",
       "      <td>two</td>\n",
       "      <td>hatchback</td>\n",
       "      <td>rwd</td>\n",
       "      <td>front</td>\n",
       "      <td>94.5</td>\n",
       "      <td>171.2</td>\n",
       "      <td>65.5</td>\n",
       "      <td>52.4</td>\n",
       "      <td>2823</td>\n",
       "      <td>ohcv</td>\n",
       "      <td>six</td>\n",
       "      <td>152</td>\n",
       "      <td>mpfi</td>\n",
       "      <td>2.68</td>\n",
       "      <td>3.47</td>\n",
       "      <td>9.0</td>\n",
       "      <td>154</td>\n",
       "      <td>5000</td>\n",
       "      <td>19</td>\n",
       "      <td>26</td>\n",
       "      <td>16500</td>\n",
       "    </tr>\n",
       "    <tr>\n",
       "      <th>2</th>\n",
       "      <td>2</td>\n",
       "      <td>164</td>\n",
       "      <td>audi</td>\n",
       "      <td>gas</td>\n",
       "      <td>std</td>\n",
       "      <td>four</td>\n",
       "      <td>sedan</td>\n",
       "      <td>fwd</td>\n",
       "      <td>front</td>\n",
       "      <td>99.8</td>\n",
       "      <td>176.6</td>\n",
       "      <td>66.2</td>\n",
       "      <td>54.3</td>\n",
       "      <td>2337</td>\n",
       "      <td>ohc</td>\n",
       "      <td>four</td>\n",
       "      <td>109</td>\n",
       "      <td>mpfi</td>\n",
       "      <td>3.19</td>\n",
       "      <td>3.40</td>\n",
       "      <td>10.0</td>\n",
       "      <td>102</td>\n",
       "      <td>5500</td>\n",
       "      <td>24</td>\n",
       "      <td>30</td>\n",
       "      <td>13950</td>\n",
       "    </tr>\n",
       "    <tr>\n",
       "      <th>3</th>\n",
       "      <td>2</td>\n",
       "      <td>164</td>\n",
       "      <td>audi</td>\n",
       "      <td>gas</td>\n",
       "      <td>std</td>\n",
       "      <td>four</td>\n",
       "      <td>sedan</td>\n",
       "      <td>4wd</td>\n",
       "      <td>front</td>\n",
       "      <td>99.4</td>\n",
       "      <td>176.6</td>\n",
       "      <td>66.4</td>\n",
       "      <td>54.3</td>\n",
       "      <td>2824</td>\n",
       "      <td>ohc</td>\n",
       "      <td>five</td>\n",
       "      <td>136</td>\n",
       "      <td>mpfi</td>\n",
       "      <td>3.19</td>\n",
       "      <td>3.40</td>\n",
       "      <td>8.0</td>\n",
       "      <td>115</td>\n",
       "      <td>5500</td>\n",
       "      <td>18</td>\n",
       "      <td>22</td>\n",
       "      <td>17450</td>\n",
       "    </tr>\n",
       "    <tr>\n",
       "      <th>4</th>\n",
       "      <td>2</td>\n",
       "      <td>?</td>\n",
       "      <td>audi</td>\n",
       "      <td>gas</td>\n",
       "      <td>std</td>\n",
       "      <td>two</td>\n",
       "      <td>sedan</td>\n",
       "      <td>fwd</td>\n",
       "      <td>front</td>\n",
       "      <td>99.8</td>\n",
       "      <td>177.3</td>\n",
       "      <td>66.3</td>\n",
       "      <td>53.1</td>\n",
       "      <td>2507</td>\n",
       "      <td>ohc</td>\n",
       "      <td>five</td>\n",
       "      <td>136</td>\n",
       "      <td>mpfi</td>\n",
       "      <td>3.19</td>\n",
       "      <td>3.40</td>\n",
       "      <td>8.5</td>\n",
       "      <td>110</td>\n",
       "      <td>5500</td>\n",
       "      <td>19</td>\n",
       "      <td>25</td>\n",
       "      <td>15250</td>\n",
       "    </tr>\n",
       "  </tbody>\n",
       "</table>\n",
       "</div>"
      ],
      "text/plain": [
       "   symboling normalized-losses         make fuel-type aspiration num-of-doors  \\\n",
       "0          3                 ?  alfa-romero       gas        std          two   \n",
       "1          1                 ?  alfa-romero       gas        std          two   \n",
       "2          2               164         audi       gas        std         four   \n",
       "3          2               164         audi       gas        std         four   \n",
       "4          2                 ?         audi       gas        std          two   \n",
       "\n",
       "    body-style drive-wheels engine-location  wheel-base  length  width  \\\n",
       "0  convertible          rwd           front        88.6   168.8   64.1   \n",
       "1    hatchback          rwd           front        94.5   171.2   65.5   \n",
       "2        sedan          fwd           front        99.8   176.6   66.2   \n",
       "3        sedan          4wd           front        99.4   176.6   66.4   \n",
       "4        sedan          fwd           front        99.8   177.3   66.3   \n",
       "\n",
       "   height  curb-weight engine-type num-of-cylinders  engine-size fuel-system  \\\n",
       "0    48.8         2548        dohc             four          130        mpfi   \n",
       "1    52.4         2823        ohcv              six          152        mpfi   \n",
       "2    54.3         2337         ohc             four          109        mpfi   \n",
       "3    54.3         2824         ohc             five          136        mpfi   \n",
       "4    53.1         2507         ohc             five          136        mpfi   \n",
       "\n",
       "   bore stroke  compression-rate horsepower peak-rpm  city-mpg  highway-mpg  \\\n",
       "0  3.47   2.68               9.0        111     5000        21           27   \n",
       "1  2.68   3.47               9.0        154     5000        19           26   \n",
       "2  3.19   3.40              10.0        102     5500        24           30   \n",
       "3  3.19   3.40               8.0        115     5500        18           22   \n",
       "4  3.19   3.40               8.5        110     5500        19           25   \n",
       "\n",
       "   price  \n",
       "0  16500  \n",
       "1  16500  \n",
       "2  13950  \n",
       "3  17450  \n",
       "4  15250  "
      ]
     },
     "execution_count": 6,
     "metadata": {},
     "output_type": "execute_result"
    }
   ],
   "source": [
    "pd.options.display.max_columns = 99\n",
    "cars.head()"
   ]
  },
  {
   "cell_type": "markdown",
   "metadata": {},
   "source": [
    "## Data cleaning"
   ]
  },
  {
   "cell_type": "markdown",
   "metadata": {},
   "source": [
    "We usually can't have any missing values if we want to use them for predictive modeling. Based on the data set preview from the last step, we can tell that the normalized-losses column contains missing values represented using \"?\". Let's replace these values and look for the presence of missing values in other numeric columns. Let's also normalize the values in all numeric columns."
   ]
  },
  {
   "cell_type": "code",
   "execution_count": 7,
   "metadata": {
    "collapsed": false
   },
   "outputs": [],
   "source": [
    "#cars['normalized-losses'] = cars['normalized-losses'].replace('?', np.nan)\n",
    "cars = cars.replace(\"?\", np.nan)"
   ]
  },
  {
   "cell_type": "code",
   "execution_count": 8,
   "metadata": {
    "collapsed": false
   },
   "outputs": [
    {
     "data": {
      "text/plain": [
       "symboling              int64\n",
       "normalized-losses     object\n",
       "make                  object\n",
       "fuel-type             object\n",
       "aspiration            object\n",
       "num-of-doors          object\n",
       "body-style            object\n",
       "drive-wheels          object\n",
       "engine-location       object\n",
       "wheel-base           float64\n",
       "length               float64\n",
       "width                float64\n",
       "height               float64\n",
       "curb-weight            int64\n",
       "engine-type           object\n",
       "num-of-cylinders      object\n",
       "engine-size            int64\n",
       "fuel-system           object\n",
       "bore                  object\n",
       "stroke                object\n",
       "compression-rate     float64\n",
       "horsepower            object\n",
       "peak-rpm              object\n",
       "city-mpg               int64\n",
       "highway-mpg            int64\n",
       "price                 object\n",
       "dtype: object"
      ]
     },
     "execution_count": 8,
     "metadata": {},
     "output_type": "execute_result"
    }
   ],
   "source": [
    "cars.dtypes"
   ]
  },
  {
   "cell_type": "markdown",
   "metadata": {},
   "source": [
    "Convert the num-of-cylinders column from text to integer values"
   ]
  },
  {
   "cell_type": "code",
   "execution_count": 9,
   "metadata": {
    "collapsed": false
   },
   "outputs": [
    {
     "data": {
      "text/plain": [
       "array(['four', 'six', 'five', 'three', 'twelve', 'two', 'eight'], dtype=object)"
      ]
     },
     "execution_count": 9,
     "metadata": {},
     "output_type": "execute_result"
    }
   ],
   "source": [
    "cars['num-of-cylinders'].unique()"
   ]
  },
  {
   "cell_type": "code",
   "execution_count": 10,
   "metadata": {
    "collapsed": false
   },
   "outputs": [],
   "source": [
    "cyl_no = {\n",
    "    'four':4,\n",
    "    'six':6,\n",
    "    'five':5,\n",
    "    'three':3,\n",
    "    'twelve':12,\n",
    "    'two':2,\n",
    "    'eight':8   \n",
    "}\n",
    "\n",
    "cars['num-of-cylinders'] = cars['num-of-cylinders'].map(cyl_no)\n",
    "cars['num-of-cylinders'] = cars['num-of-cylinders'].astype(int)"
   ]
  },
  {
   "cell_type": "markdown",
   "metadata": {},
   "source": [
    "convert num of doors from text to numbers"
   ]
  },
  {
   "cell_type": "code",
   "execution_count": 11,
   "metadata": {
    "collapsed": false
   },
   "outputs": [
    {
     "data": {
      "text/plain": [
       "array(['two', 'four', nan], dtype=object)"
      ]
     },
     "execution_count": 11,
     "metadata": {},
     "output_type": "execute_result"
    }
   ],
   "source": [
    "cars['num-of-doors'].unique()"
   ]
  },
  {
   "cell_type": "code",
   "execution_count": 12,
   "metadata": {
    "collapsed": false
   },
   "outputs": [],
   "source": [
    "doors_no = {\n",
    "    'two':2,\n",
    "    'four':4  \n",
    "}\n",
    "\n",
    "cars['num-of-doors'] = cars['num-of-doors'].map(doors_no)"
   ]
  },
  {
   "cell_type": "code",
   "execution_count": 13,
   "metadata": {
    "collapsed": false
   },
   "outputs": [],
   "source": [
    "cars['bore'] = cars['bore'].astype(float)\n",
    "cars['stroke'] =  cars['stroke'].astype(float)\n",
    "cars['horsepower'] = cars['horsepower'].astype(float)\n",
    "cars['peak-rpm'] = cars['peak-rpm'].astype(float)\n",
    "cars['price'] = cars['price'].astype(float)"
   ]
  },
  {
   "cell_type": "code",
   "execution_count": 14,
   "metadata": {
    "collapsed": false
   },
   "outputs": [
    {
     "data": {
      "text/plain": [
       "symboling              int64\n",
       "normalized-losses     object\n",
       "make                  object\n",
       "fuel-type             object\n",
       "aspiration            object\n",
       "num-of-doors         float64\n",
       "body-style            object\n",
       "drive-wheels          object\n",
       "engine-location       object\n",
       "wheel-base           float64\n",
       "length               float64\n",
       "width                float64\n",
       "height               float64\n",
       "curb-weight            int64\n",
       "engine-type           object\n",
       "num-of-cylinders       int64\n",
       "engine-size            int64\n",
       "fuel-system           object\n",
       "bore                 float64\n",
       "stroke               float64\n",
       "compression-rate     float64\n",
       "horsepower           float64\n",
       "peak-rpm             float64\n",
       "city-mpg               int64\n",
       "highway-mpg            int64\n",
       "price                float64\n",
       "dtype: object"
      ]
     },
     "execution_count": 14,
     "metadata": {},
     "output_type": "execute_result"
    }
   ],
   "source": [
    "cars.dtypes"
   ]
  },
  {
   "cell_type": "code",
   "execution_count": 15,
   "metadata": {
    "collapsed": false
   },
   "outputs": [
    {
     "data": {
      "text/plain": [
       "symboling             0\n",
       "normalized-losses    40\n",
       "make                  0\n",
       "fuel-type             0\n",
       "aspiration            0\n",
       "num-of-doors          2\n",
       "body-style            0\n",
       "drive-wheels          0\n",
       "engine-location       0\n",
       "wheel-base            0\n",
       "length                0\n",
       "width                 0\n",
       "height                0\n",
       "curb-weight           0\n",
       "engine-type           0\n",
       "num-of-cylinders      0\n",
       "engine-size           0\n",
       "fuel-system           0\n",
       "bore                  4\n",
       "stroke                4\n",
       "compression-rate      0\n",
       "horsepower            2\n",
       "peak-rpm              2\n",
       "city-mpg              0\n",
       "highway-mpg           0\n",
       "price                 4\n",
       "dtype: int64"
      ]
     },
     "execution_count": 15,
     "metadata": {},
     "output_type": "execute_result"
    }
   ],
   "source": [
    "cars.isnull().sum()"
   ]
  },
  {
   "cell_type": "markdown",
   "metadata": {},
   "source": [
    "the normalized-losses got 40 missing values, so its better to remove the entire column"
   ]
  },
  {
   "cell_type": "code",
   "execution_count": 16,
   "metadata": {
    "collapsed": false
   },
   "outputs": [],
   "source": [
    "cars.drop('normalized-losses', axis=1, inplace=True)"
   ]
  },
  {
   "cell_type": "markdown",
   "metadata": {},
   "source": [
    "Drop missing rows that the target column have them as Na"
   ]
  },
  {
   "cell_type": "code",
   "execution_count": 17,
   "metadata": {
    "collapsed": true
   },
   "outputs": [],
   "source": [
    "cars = cars.dropna(subset=['price'])"
   ]
  },
  {
   "cell_type": "markdown",
   "metadata": {},
   "source": [
    "Fill the remamning missing values with that columns average"
   ]
  },
  {
   "cell_type": "code",
   "execution_count": 18,
   "metadata": {
    "collapsed": true
   },
   "outputs": [],
   "source": [
    "cars = cars.fillna(cars.mean())"
   ]
  },
  {
   "cell_type": "code",
   "execution_count": 19,
   "metadata": {
    "collapsed": false
   },
   "outputs": [
    {
     "data": {
      "text/plain": [
       "symboling           0\n",
       "make                0\n",
       "fuel-type           0\n",
       "aspiration          0\n",
       "num-of-doors        0\n",
       "body-style          0\n",
       "drive-wheels        0\n",
       "engine-location     0\n",
       "wheel-base          0\n",
       "length              0\n",
       "width               0\n",
       "height              0\n",
       "curb-weight         0\n",
       "engine-type         0\n",
       "num-of-cylinders    0\n",
       "engine-size         0\n",
       "fuel-system         0\n",
       "bore                0\n",
       "stroke              0\n",
       "compression-rate    0\n",
       "horsepower          0\n",
       "peak-rpm            0\n",
       "city-mpg            0\n",
       "highway-mpg         0\n",
       "price               0\n",
       "dtype: int64"
      ]
     },
     "execution_count": 19,
     "metadata": {},
     "output_type": "execute_result"
    }
   ],
   "source": [
    "cars.isnull().sum()"
   ]
  },
  {
   "cell_type": "markdown",
   "metadata": {},
   "source": [
    "Drop all non-numeric columns"
   ]
  },
  {
   "cell_type": "code",
   "execution_count": 25,
   "metadata": {
    "collapsed": true
   },
   "outputs": [],
   "source": [
    "numeric_cols = ['symboling', 'num-of-doors', 'wheel-base', 'length', 'width', 'height', 'curb-weight', 'num-of-cylinders', 'engine-size', 'bore', 'stroke', 'compression-rate', 'horsepower', 'peak-rpm', 'city-mpg', 'highway-mpg', 'price']\n",
    "numeric_cars = cars[numeric_cols]"
   ]
  },
  {
   "cell_type": "markdown",
   "metadata": {},
   "source": [
    "### Normalize the numeric columns"
   ]
  },
  {
   "cell_type": "code",
   "execution_count": 32,
   "metadata": {
    "collapsed": false
   },
   "outputs": [],
   "source": [
    "normalized_cars = (numeric_cars.max() - numeric_cars) / numeric_cars.max()\n",
    "normalized_cars['price'] = numeric_cars['price']"
   ]
  },
  {
   "cell_type": "code",
   "execution_count": 33,
   "metadata": {
    "collapsed": false,
    "scrolled": true
   },
   "outputs": [
    {
     "data": {
      "text/html": [
       "<div>\n",
       "<table border=\"1\" class=\"dataframe\">\n",
       "  <thead>\n",
       "    <tr style=\"text-align: right;\">\n",
       "      <th></th>\n",
       "      <th>symboling</th>\n",
       "      <th>num-of-doors</th>\n",
       "      <th>wheel-base</th>\n",
       "      <th>length</th>\n",
       "      <th>width</th>\n",
       "      <th>height</th>\n",
       "      <th>curb-weight</th>\n",
       "      <th>num-of-cylinders</th>\n",
       "      <th>engine-size</th>\n",
       "      <th>bore</th>\n",
       "      <th>stroke</th>\n",
       "      <th>compression-rate</th>\n",
       "      <th>horsepower</th>\n",
       "      <th>peak-rpm</th>\n",
       "      <th>city-mpg</th>\n",
       "      <th>highway-mpg</th>\n",
       "      <th>price</th>\n",
       "    </tr>\n",
       "  </thead>\n",
       "  <tbody>\n",
       "    <tr>\n",
       "      <th>0</th>\n",
       "      <td>0.000000</td>\n",
       "      <td>0.5</td>\n",
       "      <td>0.267163</td>\n",
       "      <td>0.188852</td>\n",
       "      <td>0.109722</td>\n",
       "      <td>0.183946</td>\n",
       "      <td>0.373340</td>\n",
       "      <td>0.666667</td>\n",
       "      <td>0.601227</td>\n",
       "      <td>0.119289</td>\n",
       "      <td>0.357314</td>\n",
       "      <td>0.608696</td>\n",
       "      <td>0.576336</td>\n",
       "      <td>0.242424</td>\n",
       "      <td>0.571429</td>\n",
       "      <td>0.500000</td>\n",
       "      <td>16500.0</td>\n",
       "    </tr>\n",
       "    <tr>\n",
       "      <th>1</th>\n",
       "      <td>0.666667</td>\n",
       "      <td>0.5</td>\n",
       "      <td>0.218362</td>\n",
       "      <td>0.177319</td>\n",
       "      <td>0.090278</td>\n",
       "      <td>0.123746</td>\n",
       "      <td>0.305706</td>\n",
       "      <td>0.500000</td>\n",
       "      <td>0.533742</td>\n",
       "      <td>0.319797</td>\n",
       "      <td>0.167866</td>\n",
       "      <td>0.608696</td>\n",
       "      <td>0.412214</td>\n",
       "      <td>0.242424</td>\n",
       "      <td>0.612245</td>\n",
       "      <td>0.518519</td>\n",
       "      <td>16500.0</td>\n",
       "    </tr>\n",
       "    <tr>\n",
       "      <th>2</th>\n",
       "      <td>0.333333</td>\n",
       "      <td>0.0</td>\n",
       "      <td>0.174524</td>\n",
       "      <td>0.151370</td>\n",
       "      <td>0.080556</td>\n",
       "      <td>0.091973</td>\n",
       "      <td>0.425234</td>\n",
       "      <td>0.666667</td>\n",
       "      <td>0.665644</td>\n",
       "      <td>0.190355</td>\n",
       "      <td>0.184652</td>\n",
       "      <td>0.565217</td>\n",
       "      <td>0.610687</td>\n",
       "      <td>0.166667</td>\n",
       "      <td>0.510204</td>\n",
       "      <td>0.444444</td>\n",
       "      <td>13950.0</td>\n",
       "    </tr>\n",
       "    <tr>\n",
       "      <th>3</th>\n",
       "      <td>0.333333</td>\n",
       "      <td>0.0</td>\n",
       "      <td>0.177833</td>\n",
       "      <td>0.151370</td>\n",
       "      <td>0.077778</td>\n",
       "      <td>0.091973</td>\n",
       "      <td>0.305460</td>\n",
       "      <td>0.583333</td>\n",
       "      <td>0.582822</td>\n",
       "      <td>0.190355</td>\n",
       "      <td>0.184652</td>\n",
       "      <td>0.652174</td>\n",
       "      <td>0.561069</td>\n",
       "      <td>0.166667</td>\n",
       "      <td>0.632653</td>\n",
       "      <td>0.592593</td>\n",
       "      <td>17450.0</td>\n",
       "    </tr>\n",
       "    <tr>\n",
       "      <th>4</th>\n",
       "      <td>0.333333</td>\n",
       "      <td>0.5</td>\n",
       "      <td>0.174524</td>\n",
       "      <td>0.148006</td>\n",
       "      <td>0.079167</td>\n",
       "      <td>0.112040</td>\n",
       "      <td>0.383424</td>\n",
       "      <td>0.583333</td>\n",
       "      <td>0.582822</td>\n",
       "      <td>0.190355</td>\n",
       "      <td>0.184652</td>\n",
       "      <td>0.630435</td>\n",
       "      <td>0.580153</td>\n",
       "      <td>0.166667</td>\n",
       "      <td>0.612245</td>\n",
       "      <td>0.537037</td>\n",
       "      <td>15250.0</td>\n",
       "    </tr>\n",
       "  </tbody>\n",
       "</table>\n",
       "</div>"
      ],
      "text/plain": [
       "   symboling  num-of-doors  wheel-base    length     width    height  \\\n",
       "0   0.000000           0.5    0.267163  0.188852  0.109722  0.183946   \n",
       "1   0.666667           0.5    0.218362  0.177319  0.090278  0.123746   \n",
       "2   0.333333           0.0    0.174524  0.151370  0.080556  0.091973   \n",
       "3   0.333333           0.0    0.177833  0.151370  0.077778  0.091973   \n",
       "4   0.333333           0.5    0.174524  0.148006  0.079167  0.112040   \n",
       "\n",
       "   curb-weight  num-of-cylinders  engine-size      bore    stroke  \\\n",
       "0     0.373340          0.666667     0.601227  0.119289  0.357314   \n",
       "1     0.305706          0.500000     0.533742  0.319797  0.167866   \n",
       "2     0.425234          0.666667     0.665644  0.190355  0.184652   \n",
       "3     0.305460          0.583333     0.582822  0.190355  0.184652   \n",
       "4     0.383424          0.583333     0.582822  0.190355  0.184652   \n",
       "\n",
       "   compression-rate  horsepower  peak-rpm  city-mpg  highway-mpg    price  \n",
       "0          0.608696    0.576336  0.242424  0.571429     0.500000  16500.0  \n",
       "1          0.608696    0.412214  0.242424  0.612245     0.518519  16500.0  \n",
       "2          0.565217    0.610687  0.166667  0.510204     0.444444  13950.0  \n",
       "3          0.652174    0.561069  0.166667  0.632653     0.592593  17450.0  \n",
       "4          0.630435    0.580153  0.166667  0.612245     0.537037  15250.0  "
      ]
     },
     "execution_count": 33,
     "metadata": {},
     "output_type": "execute_result"
    }
   ],
   "source": [
    "normalized_cars.head()"
   ]
  },
  {
   "cell_type": "code",
   "execution_count": 35,
   "metadata": {
    "collapsed": false
   },
   "outputs": [
    {
     "data": {
      "text/plain": [
       "200"
      ]
     },
     "execution_count": 35,
     "metadata": {},
     "output_type": "execute_result"
    }
   ],
   "source": [
    "normalized_cars.shape[0]"
   ]
  },
  {
   "cell_type": "markdown",
   "metadata": {},
   "source": [
    "### Univariate Model"
   ]
  },
  {
   "cell_type": "markdown",
   "metadata": {},
   "source": [
    "Create a function, named knn_train_test() that encapsulates the training and simple validation process. This function should have 3 parameters -- training column name, target column name, and the dataframe object.\n",
    "\n",
    "- This function should split the data set into a training and test set.\n",
    "- Then, it should instantiate the KNeighborsRegressor class, fit the model on the training set, and make predictions on the test set.\n",
    "- Finally, it should calculate the RMSE and return that value."
   ]
  },
  {
   "cell_type": "code",
   "execution_count": 60,
   "metadata": {
    "collapsed": false
   },
   "outputs": [],
   "source": [
    "from sklearn.neighbors import KNeighborsRegressor\n",
    "from sklearn.metrics import mean_squared_error\n",
    "\n",
    "def knn_train_test(train_col, target_col, df):\n",
    "    train_set = df[:150]\n",
    "    test_set = df[150:]\n",
    "    knn = KNeighborsRegressor()\n",
    "    knn.fit(train_set[[train_col]], train_set[target_col])\n",
    "    predictions = knn.predict(test_set[[train_col]])\n",
    "    RMSE = np.sqrt(mean_squared_error(test_set[[target_col]], predictions))\n",
    "    return RMSE"
   ]
  },
  {
   "cell_type": "markdown",
   "metadata": {},
   "source": [
    "Use this function to train and test univariate models using the different numeric columns in the data set. Which column performed the best using the default k value?\n"
   ]
  },
  {
   "cell_type": "code",
   "execution_count": 68,
   "metadata": {
    "collapsed": false
   },
   "outputs": [
    {
     "data": {
      "text/plain": [
       "curb-weight         2522.609877\n",
       "highway-mpg         2725.045444\n",
       "symboling           3385.568362\n",
       "city-mpg            3463.783718\n",
       "engine-size         3661.645344\n",
       "horsepower          3901.497481\n",
       "num-of-doors        4334.197632\n",
       "num-of-cylinders    5117.675974\n",
       "width               5146.105690\n",
       "wheel-base          5629.350075\n",
       "compression-rate    5968.933702\n",
       "height              7037.498221\n",
       "peak-rpm            7135.715667\n",
       "length              7747.307093\n",
       "stroke              7832.932651\n",
       "bore                9428.415182\n",
       "dtype: float64"
      ]
     },
     "execution_count": 68,
     "metadata": {},
     "output_type": "execute_result"
    }
   ],
   "source": [
    "RMSE_dic = {}\n",
    "for col in normalized_cars.columns:\n",
    "    if col != 'price':\n",
    "        RMSE_dic[col] = knn_train_test(col, 'price', normalized_cars)\n",
    "        \n",
    "RMSE_Series = pd.Series(RMSE_dic)\n",
    "RMSE_Series.sort_values()"
   ]
  },
  {
   "cell_type": "code",
   "execution_count": 72,
   "metadata": {
    "collapsed": true
   },
   "outputs": [],
   "source": [
    "from sklearn.neighbors import KNeighborsRegressor\n",
    "from sklearn.metrics import mean_squared_error\n",
    "\n",
    "def knn_train_test(train_col, target_col, df, k):\n",
    "    train_set = df[:150]\n",
    "    test_set = df[150:]\n",
    "    knn = KNeighborsRegressor(n_neighbors = k)\n",
    "    knn.fit(train_set[[train_col]], train_set[target_col])\n",
    "    predictions = knn.predict(test_set[[train_col]])\n",
    "    RMSE = np.sqrt(mean_squared_error(test_set[[target_col]], predictions))\n",
    "    return RMSE"
   ]
  },
  {
   "cell_type": "markdown",
   "metadata": {},
   "source": [
    "For each numeric column, create, train, and test a univariate model using the following k values (1, 3, 5, 7, and 9). Visualize the results using a scatter plot or a line plot."
   ]
  },
  {
   "cell_type": "code",
   "execution_count": 88,
   "metadata": {
    "collapsed": false
   },
   "outputs": [
    {
     "data": {
      "text/plain": [
       "defaultdict(dict,\n",
       "            {'bore': {1: 6775.7657382763764,\n",
       "              3: 7163.0170108535813,\n",
       "              5: 9428.4151815668374,\n",
       "              7: 8251.7992506025548,\n",
       "              9: 6569.9256563244026},\n",
       "             'city-mpg': {1: 5788.9360801446064,\n",
       "              3: 3993.8862555438682,\n",
       "              5: 3463.7837181902682,\n",
       "              7: 3326.2504072045704,\n",
       "              9: 3464.8208598874357},\n",
       "             'compression-rate': {1: 5877.144988853006,\n",
       "              3: 4599.9566821631897,\n",
       "              5: 5968.9337015584279,\n",
       "              7: 6928.0128206331383,\n",
       "              9: 6005.6895444606898},\n",
       "             'curb-weight': {1: 3842.2941532370996,\n",
       "              3: 2548.3593336367094,\n",
       "              5: 2522.6098772501468,\n",
       "              7: 2674.0810557372906,\n",
       "              9: 2625.9465654206383},\n",
       "             'engine-size': {1: 5079.9219639675566,\n",
       "              3: 4407.5808784411438,\n",
       "              5: 3661.6453436126221,\n",
       "              7: 3278.2087935770219,\n",
       "              9: 3174.2893822043561},\n",
       "             'height': {1: 12408.951315078966,\n",
       "              3: 8550.7118315767511,\n",
       "              5: 7037.4982214988877,\n",
       "              7: 6477.6519007228826,\n",
       "              9: 5433.936229445374},\n",
       "             'highway-mpg': {1: 3817.565451960189,\n",
       "              3: 2587.1356117013529,\n",
       "              5: 2725.0454443183144,\n",
       "              7: 2812.4276881769761,\n",
       "              9: 2940.3770667747385},\n",
       "             'horsepower': {1: 5033.3351885206293,\n",
       "              3: 4352.5068209787642,\n",
       "              5: 3901.4974808142574,\n",
       "              7: 3957.3664987860657,\n",
       "              9: 3652.1001820532097},\n",
       "             'length': {1: 6679.5886026012113,\n",
       "              3: 6750.4561865600372,\n",
       "              5: 7747.3070931776028,\n",
       "              7: 6011.4985419610639,\n",
       "              9: 4873.7889400696949},\n",
       "             'num-of-cylinders': {1: 3938.8178937341086,\n",
       "              3: 4604.8701926450776,\n",
       "              5: 5117.6759739553654,\n",
       "              7: 5835.413611628187,\n",
       "              9: 5870.986509023488},\n",
       "             'num-of-doors': {1: 5042.5048834879672,\n",
       "              3: 5330.8631198167359,\n",
       "              5: 4334.1976319498863,\n",
       "              7: 4291.9202186985576,\n",
       "              9: 4680.9798507060523},\n",
       "             'peak-rpm': {1: 12330.856858304698,\n",
       "              3: 9277.7507842987234,\n",
       "              5: 7135.715666700853,\n",
       "              7: 6167.0570028770362,\n",
       "              9: 6408.898328337169},\n",
       "             'stroke': {1: 13513.62917798176,\n",
       "              3: 9529.8564593363917,\n",
       "              5: 7832.9326514658605,\n",
       "              7: 6092.0925820413513,\n",
       "              9: 4850.5417398090322},\n",
       "             'symboling': {1: 6918.4322169115749,\n",
       "              3: 5414.5837457739999,\n",
       "              5: 3385.5683618559533,\n",
       "              7: 4759.0969497953092,\n",
       "              9: 4545.5917194302756},\n",
       "             'wheel-base': {1: 5932.6379208578037,\n",
       "              3: 5584.8732011866969,\n",
       "              5: 5629.3500748132547,\n",
       "              7: 5366.3406835799096,\n",
       "              9: 4971.1886249606614},\n",
       "             'width': {1: 8555.4556290124019,\n",
       "              3: 5403.6391901919005,\n",
       "              5: 5146.1056897036233,\n",
       "              7: 4223.3654554883415,\n",
       "              9: 3670.5315798621641}})"
      ]
     },
     "execution_count": 88,
     "metadata": {},
     "output_type": "execute_result"
    }
   ],
   "source": [
    "from collections import defaultdict\n",
    "\n",
    "k_values = [1,3,5,7,9]\n",
    "RMSE_dic = defaultdict(dict)\n",
    "\n",
    "for col in normalized_cars.columns:\n",
    "    if col != 'price':\n",
    "        for k in k_values:\n",
    "            RMSE_dic[col][k]= knn_train_test(col, 'price', normalized_cars, k)\n",
    "\n",
    "RMSE_dic"
   ]
  },
  {
   "cell_type": "code",
   "execution_count": 93,
   "metadata": {
    "collapsed": false
   },
   "outputs": [
    {
     "data": {
      "image/png": "[encoded data removed]",
      "text/plain": [
       "<matplotlib.figure.Figure at 0x7f1420d6aba8>"
      ]
     },
     "metadata": {},
     "output_type": "display_data"
    }
   ],
   "source": [
    "import matplotlib.pyplot as plt\n",
    "import seaborn as sns\n",
    "%matplotlib inline\n",
    "\n",
    "for k,v in RMSE_dic.items():\n",
    "    x = list(v.keys())\n",
    "    y = list(v.values())\n",
    "    \n",
    "    plt.plot(x,y)\n",
    "    plt.xlabel('k value')\n",
    "    plt.ylabel('RMSE')"
   ]
  },
  {
   "cell_type": "markdown",
   "metadata": {},
   "source": [
    "### Multivariate Model"
   ]
  },
  {
   "cell_type": "markdown",
   "metadata": {},
   "source": [
    "Modify the knn_train_test() function to accept a list of column names (instead of just a string). Modify the rest of the function logic to use this parameter:\n",
    "\n",
    "- Instead of using just a single column for train and test, use all of the columns passed in.\n",
    "- Use a the default k value from scikit-learn for now (we'll tune the k value in the next step)."
   ]
  },
  {
   "cell_type": "code",
   "execution_count": 95,
   "metadata": {
    "collapsed": true
   },
   "outputs": [],
   "source": [
    "from sklearn.neighbors import KNeighborsRegressor\n",
    "from sklearn.metrics import mean_squared_error\n",
    "\n",
    "def knn_train_test(train_cols, target_col, df):\n",
    "    train_set = df[:150]\n",
    "    test_set = df[150:]\n",
    "    knn = KNeighborsRegressor()\n",
    "    knn.fit(train_set[train_cols], train_set[target_col])\n",
    "    predictions = knn.predict(test_set[train_cols])\n",
    "    RMSE = np.sqrt(mean_squared_error(test_set[[target_col]], predictions))\n",
    "    return RMSE"
   ]
  },
  {
   "cell_type": "markdown",
   "metadata": {},
   "source": [
    "Use the best 2 features from the previous step to train and test a multivariate k-nearest neighbors model using the default k value."
   ]
  },
  {
   "cell_type": "code",
   "execution_count": 96,
   "metadata": {
    "collapsed": false
   },
   "outputs": [
    {
     "data": {
      "text/plain": [
       "2761.1314344666748"
      ]
     },
     "execution_count": 96,
     "metadata": {},
     "output_type": "execute_result"
    }
   ],
   "source": [
    "col_list = ['curb-weight', 'highway-mpg']\n",
    "\n",
    "RMSE = knn_train_test(col_list, 'price', normalized_cars)        \n",
    "RMSE"
   ]
  },
  {
   "cell_type": "markdown",
   "metadata": {},
   "source": [
    "Use the best 3 features from the previous step to train and test a multivariate k-nearest neighbors model using the default k value."
   ]
  },
  {
   "cell_type": "code",
   "execution_count": 99,
   "metadata": {
    "collapsed": false
   },
   "outputs": [
    {
     "data": {
      "text/plain": [
       "3052.4930135218983"
      ]
     },
     "execution_count": 99,
     "metadata": {},
     "output_type": "execute_result"
    }
   ],
   "source": [
    "col_list = ['curb-weight', 'highway-mpg', 'symboling']\n",
    "\n",
    "RMSE = knn_train_test(col_list, 'price', normalized_cars)        \n",
    "RMSE"
   ]
  },
  {
   "cell_type": "markdown",
   "metadata": {},
   "source": [
    "Use the best 4 features from the previous step to train and test a multivariate k-nearest neighbors model using the default k value."
   ]
  },
  {
   "cell_type": "code",
   "execution_count": 100,
   "metadata": {
    "collapsed": false
   },
   "outputs": [
    {
     "data": {
      "text/plain": [
       "2948.8927036431833"
      ]
     },
     "execution_count": 100,
     "metadata": {},
     "output_type": "execute_result"
    }
   ],
   "source": [
    "col_list = ['curb-weight', 'highway-mpg', 'symboling', 'city-mpg' ]\n",
    "\n",
    "RMSE = knn_train_test(col_list, 'price', normalized_cars)        \n",
    "RMSE"
   ]
  },
  {
   "cell_type": "markdown",
   "metadata": {},
   "source": [
    "Use the best 5 features from the previous step to train and test a multivariate k-nearest neighbors model using the default k value."
   ]
  },
  {
   "cell_type": "code",
   "execution_count": 101,
   "metadata": {
    "collapsed": false
   },
   "outputs": [
    {
     "data": {
      "text/plain": [
       "2373.6922396974719"
      ]
     },
     "execution_count": 101,
     "metadata": {},
     "output_type": "execute_result"
    }
   ],
   "source": [
    "col_list = ['curb-weight', 'highway-mpg', 'symboling', 'city-mpg', 'engine-size']\n",
    "\n",
    "RMSE = knn_train_test(col_list, 'price', normalized_cars)        \n",
    "RMSE"
   ]
  },
  {
   "cell_type": "markdown",
   "metadata": {},
   "source": [
    "Let's now optimize the model that performed the best in the previous step."
   ]
  },
  {
   "cell_type": "markdown",
   "metadata": {},
   "source": [
    "For the top 3 models in the last step, vary the hyperparameter value from 1 to 25 and plot the resulting RMSE values."
   ]
  },
  {
   "cell_type": "code",
   "execution_count": 102,
   "metadata": {
    "collapsed": true
   },
   "outputs": [],
   "source": [
    "def knn_train_test(train_cols, target_col, df, k):\n",
    "    train_set = df[:150]\n",
    "    test_set = df[150:]\n",
    "    knn = KNeighborsRegressor(n_neighbors = k)\n",
    "    knn.fit(train_set[train_cols], train_set[target_col])\n",
    "    predictions = knn.predict(test_set[train_cols])\n",
    "    RMSE = np.sqrt(mean_squared_error(test_set[[target_col]], predictions))\n",
    "    return RMSE"
   ]
  },
  {
   "cell_type": "code",
   "execution_count": 107,
   "metadata": {
    "collapsed": false
   },
   "outputs": [
    {
     "data": {
      "text/plain": [
       "25    2406.856113\n",
       "24    2425.380764\n",
       "23    2486.916029\n",
       "17    2542.197658\n",
       "18    2563.215583\n",
       "16    2570.035405\n",
       "22    2570.713663\n",
       "12    2570.907099\n",
       "10    2575.565689\n",
       "15    2592.944993\n",
       "20    2602.855752\n",
       "14    2605.835521\n",
       "11    2613.075981\n",
       "19    2614.596764\n",
       "13    2626.832878\n",
       "21    2657.978241\n",
       "9     2673.222041\n",
       "8     2722.034887\n",
       "5     2761.131434\n",
       "7     2767.569332\n",
       "4     2853.137453\n",
       "6     2881.868283\n",
       "2     3085.305221\n",
       "3     3252.206906\n",
       "1     3973.031915\n",
       "dtype: float64"
      ]
     },
     "execution_count": 107,
     "metadata": {},
     "output_type": "execute_result"
    }
   ],
   "source": [
    "k_values = list(range(1,25+1))\n",
    "RMSE_dic = {}\n",
    "col_list = ['curb-weight', 'highway-mpg']\n",
    "\n",
    "for k in k_values:\n",
    "    RMSE_dic[k] = knn_train_test(col_list, 'price', normalized_cars, k)        \n",
    "        \n",
    "RMSE_Series = pd.Series(RMSE_dic)\n",
    "RMSE_Series.sort_values()"
   ]
  },
  {
   "cell_type": "markdown",
   "metadata": {},
   "source": [
    "k=25 is the optimal for the two best columns model"
   ]
  },
  {
   "cell_type": "code",
   "execution_count": 108,
   "metadata": {
    "collapsed": false
   },
   "outputs": [
    {
     "data": {
      "text/plain": [
       "25    2408.126767\n",
       "24    2472.471578\n",
       "22    2557.845465\n",
       "23    2559.594709\n",
       "20    2579.084196\n",
       "21    2581.132194\n",
       "19    2620.837131\n",
       "17    2738.309741\n",
       "18    2742.719731\n",
       "10    2769.157130\n",
       "16    2789.914621\n",
       "13    2815.990668\n",
       "9     2827.280721\n",
       "8     2838.367769\n",
       "15    2856.406102\n",
       "12    2866.291714\n",
       "11    2880.498447\n",
       "14    2902.961967\n",
       "7     2919.557989\n",
       "6     3019.790252\n",
       "5     3052.493014\n",
       "4     3942.830397\n",
       "2     3949.831180\n",
       "1     3959.305293\n",
       "3     4548.927827\n",
       "dtype: float64"
      ]
     },
     "execution_count": 108,
     "metadata": {},
     "output_type": "execute_result"
    }
   ],
   "source": [
    "k_values = list(range(1,25+1))\n",
    "RMSE_dic = {}\n",
    "col_list = ['curb-weight', 'highway-mpg', 'symboling']\n",
    "\n",
    "for k in k_values:\n",
    "    RMSE_dic[k] = knn_train_test(col_list, 'price', normalized_cars, k)        \n",
    "    \n",
    "RMSE_Series = pd.Series(RMSE_dic)\n",
    "RMSE_Series.sort_values()"
   ]
  },
  {
   "cell_type": "markdown",
   "metadata": {},
   "source": [
    "k=25 is the optimal for the best three columns model"
   ]
  },
  {
   "cell_type": "code",
   "execution_count": 110,
   "metadata": {
    "collapsed": false
   },
   "outputs": [
    {
     "data": {
      "text/plain": [
       "25    2370.579222\n",
       "24    2403.985890\n",
       "22    2491.201307\n",
       "23    2507.587318\n",
       "14    2548.843512\n",
       "13    2553.502518\n",
       "21    2559.943432\n",
       "16    2561.457545\n",
       "12    2575.139560\n",
       "15    2588.636580\n",
       "20    2642.288108\n",
       "11    2654.050858\n",
       "10    2668.307307\n",
       "18    2676.832659\n",
       "17    2679.644740\n",
       "19    2682.799417\n",
       "8     2808.595388\n",
       "9     2864.045194\n",
       "6     2903.928807\n",
       "7     2935.831154\n",
       "5     2948.892704\n",
       "1     3907.323363\n",
       "4     3988.591135\n",
       "3     4477.981177\n",
       "2     4498.726969\n",
       "dtype: float64"
      ]
     },
     "execution_count": 110,
     "metadata": {},
     "output_type": "execute_result"
    }
   ],
   "source": [
    "k_values = list(range(1,25+1))\n",
    "RMSE_dic = {}\n",
    "col_list = ['curb-weight', 'highway-mpg', 'symboling', 'city-mpg' ]\n",
    "\n",
    "for k in k_values:\n",
    "    RMSE_dic[k] = knn_train_test(col_list, 'price', normalized_cars, k)        \n",
    "    \n",
    "RMSE_Series = pd.Series(RMSE_dic)\n",
    "RMSE_Series.sort_values()"
   ]
  },
  {
   "cell_type": "markdown",
   "metadata": {},
   "source": [
    "k=25 is the optimal for the best 4 columns model"
   ]
  },
  {
   "cell_type": "code",
   "execution_count": 111,
   "metadata": {
    "collapsed": false
   },
   "outputs": [
    {
     "data": {
      "text/plain": [
       "17    2333.935451\n",
       "16    2356.558808\n",
       "5     2373.692240\n",
       "18    2377.736847\n",
       "23    2381.171004\n",
       "24    2402.480526\n",
       "25    2426.355085\n",
       "15    2428.701409\n",
       "19    2435.815989\n",
       "20    2452.037924\n",
       "21    2480.661090\n",
       "22    2488.933096\n",
       "14    2489.222283\n",
       "13    2551.147676\n",
       "6     2614.304294\n",
       "12    2647.922989\n",
       "10    2654.010537\n",
       "9     2672.710478\n",
       "11    2780.746241\n",
       "8     2812.525742\n",
       "7     2886.431002\n",
       "4     2894.069412\n",
       "2     3876.316714\n",
       "1     3931.551767\n",
       "3     4161.803803\n",
       "dtype: float64"
      ]
     },
     "execution_count": 111,
     "metadata": {},
     "output_type": "execute_result"
    }
   ],
   "source": [
    "k_values = list(range(1,25+1))\n",
    "RMSE_dic = {}\n",
    "col_list = ['curb-weight', 'highway-mpg', 'symboling', 'city-mpg', 'engine-size']\n",
    "\n",
    "for k in k_values:\n",
    "    RMSE_dic[k] = knn_train_test(col_list, 'price', normalized_cars, k)        \n",
    "    \n",
    "RMSE_Series = pd.Series(RMSE_dic)\n",
    "RMSE_Series.sort_values()"
   ]
  },
  {
   "cell_type": "markdown",
   "metadata": {},
   "source": [
    "k=17 is the optimal for the best 5 colums model"
   ]
  },
  {
   "cell_type": "markdown",
   "metadata": {},
   "source": [
    "RMSE = 2333.93 is the best result we got using the best 5 features(columns) with k = 17"
   ]
  },
  {
   "cell_type": "markdown",
   "metadata": {},
   "source": [
    "### More Experiments  "
   ]
  },
  {
   "cell_type": "markdown",
   "metadata": {},
   "source": [
    "Lets try modifying the knn_train_test() function to use k-fold cross validation instead of test/train validation."
   ]
  },
  {
   "cell_type": "code",
   "execution_count": 120,
   "metadata": {
    "collapsed": true
   },
   "outputs": [],
   "source": [
    "from sklearn.model_selection import cross_val_score, KFold\n",
    "\n",
    "def knn_train_test(train_cols, target_col, df, k):\n",
    "    kf = KFold(5, True, 1)\n",
    "    knn = KNeighborsRegressor(n_neighbors = k)\n",
    "    mses = cross_val_score(knn, df[train_cols], df[target_col], scoring = \"neg_mean_squared_error\", cv=kf)\n",
    "    rmses = [np.sqrt(np.absolute(mse)) for mse in mses]\n",
    "    avg_rmses = np.mean(rmses)\n",
    "    \n",
    "    return avg_rmses"
   ]
  },
  {
   "cell_type": "code",
   "execution_count": 121,
   "metadata": {
    "collapsed": false
   },
   "outputs": [
    {
     "data": {
      "text/plain": [
       "2     3074.676026\n",
       "1     3083.633924\n",
       "3     3346.680235\n",
       "4     3667.898161\n",
       "6     3710.289519\n",
       "5     3752.365412\n",
       "7     3854.999412\n",
       "8     4018.916516\n",
       "9     4168.546058\n",
       "10    4350.348771\n",
       "11    4429.871336\n",
       "12    4484.505027\n",
       "13    4541.678467\n",
       "14    4624.769161\n",
       "16    4678.733814\n",
       "15    4693.279529\n",
       "17    4752.240176\n",
       "18    4798.962776\n",
       "19    4881.957181\n",
       "20    4916.867585\n",
       "22    4934.346313\n",
       "21    4953.909373\n",
       "23    4983.319472\n",
       "24    4995.367821\n",
       "25    4996.690645\n",
       "dtype: float64"
      ]
     },
     "execution_count": 121,
     "metadata": {},
     "output_type": "execute_result"
    }
   ],
   "source": [
    "k_values = list(range(1,25+1))\n",
    "RMSE_dic = {}\n",
    "col_list = ['curb-weight', 'highway-mpg', 'symboling', 'city-mpg', 'engine-size']\n",
    "\n",
    "for k in k_values:\n",
    "    RMSE_dic[k] = knn_train_test(col_list, 'price', normalized_cars, k)        \n",
    "    \n",
    "RMSE_Series = pd.Series(RMSE_dic)\n",
    "RMSE_Series.sort_values()"
   ]
  }
 ],
 "metadata": {
  "kernelspec": {
   "display_name": "Python 3",
   "language": "python",
   "name": "python3"
  },
  "language_info": {
   "codemirror_mode": {
    "name": "ipython",
    "version": 3
   },
   "file_extension": ".py",
   "mimetype": "text/x-python",
   "name": "python",
   "nbconvert_exporter": "python",
   "pygments_lexer": "ipython3",
   "version": "3.4.3"
  }
 },
 "nbformat": 4,
 "nbformat_minor": 2
}
